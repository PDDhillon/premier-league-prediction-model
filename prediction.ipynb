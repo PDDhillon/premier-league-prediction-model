{
 "cells": [
  {
   "cell_type": "code",
   "execution_count": 3,
   "metadata": {},
   "outputs": [],
   "source": [
    "import pandas as pd\n",
    "matches = pd.read_csv(\"web_scraping/matches.csv\", index_col=0)\n",
    "matches.dtypes\n",
    "# create features to predict on\n",
    "matches[\"date\"] = pd.to_datetime(matches[\"date\"])\n",
    "matches[\"venue_code\"] = matches[\"venue\"].astype(\"category\").cat.codes\n",
    "matches[\"opp_code\"] = matches[\"opponent\"].astype(\"category\").cat.codes\n",
    "matches[\"hour\"] = matches[\"time\"].str.replace(\":.+\", \"\", regex=True).astype(\"int\")\n",
    "matches[\"day_code\"] = matches[\"date\"].dt.dayofweek\n",
    "# create label to predict\n",
    "matches[\"target\"] = (matches[\"result\"] == \"W\").astype(\"float\")\n",
    "\n",
    "data_df = matches[[\"venue_code\",\"opp_code\",\"hour\",\"day_code\",\"target\"]]"
   ]
  },
  {
   "cell_type": "code",
   "execution_count": null,
   "metadata": {},
   "outputs": [],
   "source": [
    "from FootballMatchDataset import FootballMatchDataset\n",
    "\n",
    "dataset = FootballMatchDataset(data_df)\n",
    "\n",
    "dataset[0]"
   ]
  },
  {
   "cell_type": "code",
   "execution_count": 4,
   "metadata": {},
   "outputs": [
    {
     "name": "stdout",
     "output_type": "stream",
     "text": [
      "Epoch: 0\n"
     ]
    },
    {
     "ename": "RuntimeError",
     "evalue": "Found dtype Double but expected Float",
     "output_type": "error",
     "traceback": [
      "\u001b[1;31m---------------------------------------------------------------------------\u001b[0m",
      "\u001b[1;31mRuntimeError\u001b[0m                              Traceback (most recent call last)",
      "\u001b[1;32md:\\Documents\\AICore\\premier-league-prediction-model\\prediction.ipynb Cell 3\u001b[0m line \u001b[0;36m3\n\u001b[0;32m     <a href='vscode-notebook-cell:/d%3A/Documents/AICore/premier-league-prediction-model/prediction.ipynb#W1sZmlsZQ%3D%3D?line=34'>35</a>\u001b[0m prediction \u001b[39m=\u001b[39m model(features)\n\u001b[0;32m     <a href='vscode-notebook-cell:/d%3A/Documents/AICore/premier-league-prediction-model/prediction.ipynb#W1sZmlsZQ%3D%3D?line=35'>36</a>\u001b[0m \u001b[39m# calculate loss\u001b[39;00m\n\u001b[1;32m---> <a href='vscode-notebook-cell:/d%3A/Documents/AICore/premier-league-prediction-model/prediction.ipynb#W1sZmlsZQ%3D%3D?line=36'>37</a>\u001b[0m criterion \u001b[39m=\u001b[39m loss_function(prediction,labels\u001b[39m.\u001b[39munsqueeze(\u001b[39m1\u001b[39m))\n\u001b[0;32m     <a href='vscode-notebook-cell:/d%3A/Documents/AICore/premier-league-prediction-model/prediction.ipynb#W1sZmlsZQ%3D%3D?line=37'>38</a>\u001b[0m \u001b[39m# backward function calculates the gradient of the current tensor w.r.t graph leaves\u001b[39;00m\n\u001b[0;32m     <a href='vscode-notebook-cell:/d%3A/Documents/AICore/premier-league-prediction-model/prediction.ipynb#W1sZmlsZQ%3D%3D?line=38'>39</a>\u001b[0m criterion\u001b[39m.\u001b[39mbackward()\n",
      "File \u001b[1;32mc:\\Users\\user\\miniconda3\\envs\\epl\\Lib\\site-packages\\torch\\nn\\modules\\module.py:1501\u001b[0m, in \u001b[0;36mModule._call_impl\u001b[1;34m(self, *args, **kwargs)\u001b[0m\n\u001b[0;32m   1496\u001b[0m \u001b[39m# If we don't have any hooks, we want to skip the rest of the logic in\u001b[39;00m\n\u001b[0;32m   1497\u001b[0m \u001b[39m# this function, and just call forward.\u001b[39;00m\n\u001b[0;32m   1498\u001b[0m \u001b[39mif\u001b[39;00m \u001b[39mnot\u001b[39;00m (\u001b[39mself\u001b[39m\u001b[39m.\u001b[39m_backward_hooks \u001b[39mor\u001b[39;00m \u001b[39mself\u001b[39m\u001b[39m.\u001b[39m_backward_pre_hooks \u001b[39mor\u001b[39;00m \u001b[39mself\u001b[39m\u001b[39m.\u001b[39m_forward_hooks \u001b[39mor\u001b[39;00m \u001b[39mself\u001b[39m\u001b[39m.\u001b[39m_forward_pre_hooks\n\u001b[0;32m   1499\u001b[0m         \u001b[39mor\u001b[39;00m _global_backward_pre_hooks \u001b[39mor\u001b[39;00m _global_backward_hooks\n\u001b[0;32m   1500\u001b[0m         \u001b[39mor\u001b[39;00m _global_forward_hooks \u001b[39mor\u001b[39;00m _global_forward_pre_hooks):\n\u001b[1;32m-> 1501\u001b[0m     \u001b[39mreturn\u001b[39;00m forward_call(\u001b[39m*\u001b[39margs, \u001b[39m*\u001b[39m\u001b[39m*\u001b[39mkwargs)\n\u001b[0;32m   1502\u001b[0m \u001b[39m# Do not call functions when jit is used\u001b[39;00m\n\u001b[0;32m   1503\u001b[0m full_backward_hooks, non_full_backward_hooks \u001b[39m=\u001b[39m [], []\n",
      "File \u001b[1;32mc:\\Users\\user\\miniconda3\\envs\\epl\\Lib\\site-packages\\torch\\nn\\modules\\loss.py:619\u001b[0m, in \u001b[0;36mBCELoss.forward\u001b[1;34m(self, input, target)\u001b[0m\n\u001b[0;32m    618\u001b[0m \u001b[39mdef\u001b[39;00m \u001b[39mforward\u001b[39m(\u001b[39mself\u001b[39m, \u001b[39minput\u001b[39m: Tensor, target: Tensor) \u001b[39m-\u001b[39m\u001b[39m>\u001b[39m Tensor:\n\u001b[1;32m--> 619\u001b[0m     \u001b[39mreturn\u001b[39;00m F\u001b[39m.\u001b[39mbinary_cross_entropy(\u001b[39minput\u001b[39m, target, weight\u001b[39m=\u001b[39m\u001b[39mself\u001b[39m\u001b[39m.\u001b[39mweight, reduction\u001b[39m=\u001b[39m\u001b[39mself\u001b[39m\u001b[39m.\u001b[39mreduction)\n",
      "File \u001b[1;32mc:\\Users\\user\\miniconda3\\envs\\epl\\Lib\\site-packages\\torch\\nn\\functional.py:3098\u001b[0m, in \u001b[0;36mbinary_cross_entropy\u001b[1;34m(input, target, weight, size_average, reduce, reduction)\u001b[0m\n\u001b[0;32m   3095\u001b[0m     new_size \u001b[39m=\u001b[39m _infer_size(target\u001b[39m.\u001b[39msize(), weight\u001b[39m.\u001b[39msize())\n\u001b[0;32m   3096\u001b[0m     weight \u001b[39m=\u001b[39m weight\u001b[39m.\u001b[39mexpand(new_size)\n\u001b[1;32m-> 3098\u001b[0m \u001b[39mreturn\u001b[39;00m torch\u001b[39m.\u001b[39m_C\u001b[39m.\u001b[39m_nn\u001b[39m.\u001b[39mbinary_cross_entropy(\u001b[39minput\u001b[39m, target, weight, reduction_enum)\n",
      "\u001b[1;31mRuntimeError\u001b[0m: Found dtype Double but expected Float"
     ]
    }
   ],
   "source": [
    "from FootballMatchDataset import FootballMatchDataset\n",
    "from FootballMatchClassfier import FootballMatchClassfier\n",
    "from torch.utils.data import DataLoader, random_split\n",
    "import torch \n",
    "from torch.utils.tensorboard import SummaryWriter\n",
    "\n",
    "dataset = FootballMatchDataset(data_df)\n",
    "train_dataset,test_dataset,val_dataset = random_split(dataset, [0.7,0.2,0.1])\n",
    "\n",
    "trainloader = DataLoader(train_dataset,batch_size=64,shuffle=False)\n",
    "valloader = DataLoader(val_dataset,batch_size=64,shuffle=False)\n",
    "testloader = DataLoader(test_dataset,batch_size=64,shuffle=False)\n",
    "\n",
    "model = FootballMatchClassfier(4)\n",
    "optimiser = torch.optim.SGD(model.parameters(), lr=0.0001)\n",
    "loss_function = torch.nn.BCELoss()\n",
    "device = torch.device(\"cuda\" if torch.cuda.is_available() else \"cpu\")\n",
    "\n",
    "epochs = 500\n",
    "for i in range(epochs):    \n",
    "    print(f'Epoch: {i}')\n",
    "    writer = SummaryWriter()\n",
    "    batch_id = 0     \n",
    "    # Set the model to run on the device\n",
    "    model = model.to(device)\n",
    "    model.train(True)     \n",
    "    for batch in trainloader:\n",
    "        # get features and labels from the batch\n",
    "        features,labels = batch\n",
    "        features = features.to(device)\n",
    "        labels = labels.to(device, non_blocking=True)\n",
    "        # loss.backward does not overwrite, it adds. To stop this, we set the gradients back to zero. sets the .grad of all optimized tensors to zero\n",
    "        optimiser.zero_grad()\n",
    "        # make a prediction\n",
    "        prediction = model(features)\n",
    "        # calculate loss\n",
    "        criterion = loss_function(prediction,labels.unsqueeze(1))\n",
    "        # backward function calculates the gradient of the current tensor w.r.t graph leaves\n",
    "        criterion.backward()\n",
    "        # moves each parameter in the opposite direction of the gradient, proportional to the learning rate\n",
    "        optimiser.step()\n",
    "        writer.add_scalar('Loss', criterion.item(), batch_id)\n",
    "        batch_id += 1\n",
    "        # print(f'Batch: {batch_id}')"
   ]
  }
 ],
 "metadata": {
  "kernelspec": {
   "display_name": "epl",
   "language": "python",
   "name": "python3"
  },
  "language_info": {
   "codemirror_mode": {
    "name": "ipython",
    "version": 3
   },
   "file_extension": ".py",
   "mimetype": "text/x-python",
   "name": "python",
   "nbconvert_exporter": "python",
   "pygments_lexer": "ipython3",
   "version": "3.11.4"
  },
  "orig_nbformat": 4
 },
 "nbformat": 4,
 "nbformat_minor": 2
}
