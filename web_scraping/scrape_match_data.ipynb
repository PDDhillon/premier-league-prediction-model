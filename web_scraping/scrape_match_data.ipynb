{
 "cells": [
  {
   "cell_type": "code",
   "execution_count": null,
   "metadata": {},
   "outputs": [],
   "source": [
    "import json\n",
    "import requests\n",
    "from bs4 import BeautifulSoup\n",
    "import pandas as pd\n",
    "import time"
   ]
  },
  {
   "cell_type": "code",
   "execution_count": null,
   "metadata": {},
   "outputs": [],
   "source": [
    "# load in variables\n",
    "with open(\"URL_Constants.json\") as f:\n",
    "    url_constants = json.load(f)"
   ]
  },
  {
   "cell_type": "code",
   "execution_count": null,
   "metadata": {},
   "outputs": [],
   "source": [
    "# range of match data\n",
    "years = list(range(2023, 2020, -1))\n",
    "all_matches = []\n",
    "league_season_url = url_constants[\"league_url\"]\n",
    "\n",
    "for year in years:\n",
    "    page_html = requests.get(league_season_url)\n",
    "    soup = BeautifulSoup(page_html.text)\n",
    "    # access the final league table for the season\n",
    "    league_table = soup.select('table.stats_table')[0]\n",
    "    # get the link to each teams stats for said season\n",
    "    team_links = [l.get(\"href\") for l in league_table.find_all('a')]\n",
    "    team_urls = [url_constants[\"base_url\"] + l for l in team_links if '/squads/' in l]\n",
    "    # set the previous seasons URL in order to continue loop\n",
    "    previous_season = soup.select(\"a.prev\")[0].get(\"href\")\n",
    "    league_season_url = url_constants[\"base_url\"] + previous_season\n",
    "    # sleep to avoid request rate limiting\n",
    "    time.sleep(1)\n",
    "    for team_url in team_urls:\n",
    "        team_name = team_url.split(\"/\")[-1].replace(\"-Stats\",\"\").replace(\"-\",\" \")\n",
    "        team_html = requests.get(team_url)\n",
    "        # read in match data as a dataframe\n",
    "        matches_df = pd.read_html(team_html.text, match=\"Scores & Fixtures\")\n",
    "        time.sleep(1)\n",
    "        # get the URL for the shooting data for the team\n",
    "        soup = BeautifulSoup(team_html.text)\n",
    "        stats_links = soup.find_all(\"a\")\n",
    "        stats_links = [l.get(\"href\") for l in stats_links]\n",
    "        stats_links = [l for l in stats_links if l and 'all_comps/shooting/' in l]\n",
    "        team_shooting_url = url_constants[\"base_url\"] + stats_links[0]\n",
    "        # read the shooting data into a pandas dataframe\n",
    "        shooting_html = requests.get(team_shooting_url)\n",
    "        shooting_df = pd.read_html(shooting_html.text, match=\"Shooting\")[0]\n",
    "        shooting_df.columns = shooting_df.columns.droplevel()\n",
    "        try:\n",
    "            # merge the shooting data with fixture data to give more information\n",
    "            team_data = matches_df[0].merge(shooting_df[[\"Date\",\"Sh\", \"SoT\", \"Dist\", \"FK\", \"PK\", \"PKatt\"]],on=\"Date\")\n",
    "        except ValueError:\n",
    "            continue\n",
    "        # filter data specifically to Premier league + add identifiers for team and year\n",
    "        team_data = team_data[team_data[\"Comp\"] == \"Premier League\"]\n",
    "        team_data[\"Season\"] = year\n",
    "        team_data[\"Team\"] = team_name \n",
    "        all_matches.append(team_data)\n",
    "        print(f\"{year} - {team_name}\")\n",
    "        time.sleep(1)\n",
    "# concatenate all data and store in a csv\n",
    "match_df = pd.concat(all_matches)\n",
    "match_df.to_csv(\"matches.csv\")"
   ]
  }
 ],
 "metadata": {
  "kernelspec": {
   "display_name": "epl",
   "language": "python",
   "name": "python3"
  },
  "language_info": {
   "codemirror_mode": {
    "name": "ipython",
    "version": 3
   },
   "file_extension": ".py",
   "mimetype": "text/x-python",
   "name": "python",
   "nbconvert_exporter": "python",
   "pygments_lexer": "ipython3",
   "version": "3.11.4"
  },
  "orig_nbformat": 4
 },
 "nbformat": 4,
 "nbformat_minor": 2
}
