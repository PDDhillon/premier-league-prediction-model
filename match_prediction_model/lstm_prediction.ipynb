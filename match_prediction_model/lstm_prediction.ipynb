{
 "cells": [
  {
   "cell_type": "code",
   "execution_count": null,
   "metadata": {},
   "outputs": [],
   "source": [
    "import pandas as pd\n",
    "import numpy as np\n",
    "\n",
    "dataset_20_21 = '../web_scraping/matches.csv'\n",
    "data = pd.read_csv(dataset_20_21)\n",
    "data_df = data[[\"date\", \"venue\", \"team\", \"opponent\", \"gf\", \"ga\", \"result\", \"xg\", \"sot\",\"poss\"]]\n",
    "data_df[\"date\"] = pd.to_datetime(data_df[\"date\"], format=\"%Y-%m-%d\")\n",
    "data_df[\"opponent\"] = data_df[\"opponent\"].str.replace(\"Utd\", \"United\").replace(\"West Ham\", \"West Ham United\").replace(\"Nott'ham Forest\", \"Nottingham Forest\").replace(\"Tottenham\", \"Tottenham Hotspur\").replace(\"Wolves\", \"Wolverhampton Wanderers\").replace(\"Brighton\", \"Brighton and Hove Albion\").replace(\"West Brom\", \"West Bromwich Albion\");\n",
    "data_df[\"Score\"] = data_df[\"gf\"] -  data_df[\"ga\"]\n",
    "data_df[\"Round\"] = np.zeros((len(data_df), 1))\n",
    "\n",
    "current_round = 1\n",
    "for row in range(1,len(data)+1):\n",
    "  data_df['Round'][row-1] = current_round\n",
    "  if (row % 10) == 0:\n",
    "    current_round += 1\n",
    "\n",
    "teamsList= {k:v for v, k in enumerate(np.sort(data_df[\"team\"].unique()))}\n",
    "data_df[\"teamId\"] = [teamsList[id] for id in list(data_df[\"team\"].values)]\n",
    "data_df[\"opponentId\"] = [teamsList[id] for id in list(data_df[\"opponent\"].values)]\n",
    "data_df[\"duplicate\"] = False\n",
    "\n",
    "data_df = data_df.sort_values(by=[\"date\"], ascending=False)\n",
    "data_df = data_df.loc[(data_df[\"teamId\"] == 12) | (data_df[\"opponentId\"] == 12)]\n",
    "\n",
    "\n",
    "\n",
    "for i in range(len(data_df)):\n",
    "  fixture = data_df.iloc[i]\n",
    "  if(fixture[\"duplicate\"] == False):\n",
    "    duplicate = data_df.index[(data_df[\"date\"] == fixture[\"date\"]) & (data_df[\"teamId\"] == fixture[\"opponentId\"]) & (data_df[\"opponentId\"] == fixture[\"teamId\"])]\n",
    "    if(data_df.at[duplicate[0], \"duplicate\"] == False):\n",
    "        data_df.at[duplicate[0], \"duplicate\"] = True\n",
    "\n",
    "data_df= data_df.loc[data_df[\"duplicate\"] == False]\n",
    "\n",
    "data_df\n",
    "\n"
   ]
  },
  {
   "cell_type": "code",
   "execution_count": null,
   "metadata": {},
   "outputs": [],
   "source": [
    "import torch\n",
    "def get_last_5_matches(row):\n",
    "    last_matches = data_df.loc[data_df[\"date\"] < row[\"date\"]].head(5);    \n",
    "    array = last_matches[[\"gf\",\"ga\",\"xg\", \"sot\", \"poss\"]].to_numpy();\n",
    "    if(len(last_matches) <= 5):\n",
    "        base = np.zeros((5,5))\n",
    "        for i in range(len(last_matches)):\n",
    "            base[i,:] = last_matches.iloc[i][[\"gf\",\"ga\",\"xg\", \"sot\", \"poss\"]].to_numpy()\n",
    "        array = base\n",
    "        tensor = torch.from_numpy(array) \n",
    "    row[\"last_5_matches\"] = tensor\n",
    "    return row   \n",
    "    \n",
    "data_df= data_df.apply(get_last_5_matches, axis=1)\n",
    "\n",
    "data_df[[\"date\",\"team\",\"opponent\", \"last_5_matches\"]]"
   ]
  }
 ],
 "metadata": {
  "kernelspec": {
   "display_name": "epl",
   "language": "python",
   "name": "python3"
  },
  "language_info": {
   "codemirror_mode": {
    "name": "ipython",
    "version": 3
   },
   "file_extension": ".py",
   "mimetype": "text/x-python",
   "name": "python",
   "nbconvert_exporter": "python",
   "pygments_lexer": "ipython3",
   "version": "3.11.4"
  }
 },
 "nbformat": 4,
 "nbformat_minor": 2
}
